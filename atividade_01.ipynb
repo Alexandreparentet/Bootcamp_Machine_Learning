{
 "cells": [
  {
   "cell_type": "markdown",
   "metadata": {},
   "source": [
    "# 1.​ Explique, com suas palavras, o que é machine learning?\n",
    "### É uma subárea da Inteligência Artificial que consiste no desenvolvimento de algoritmos que aprendem por meio de uma base de dados e que podem melhorar suas previsões ou ações."
   ]
  },
  {
   "cell_type": "markdown",
   "metadata": {},
   "source": [
    "# 2. Explique o conceito de conjunto de treinamento, conjunto de validação e conjunto de teste em machine learning.\n",
    "### O conjunto de treinamento é a maioria dos dados que o modelo usa para aprender a fazer as previsões analisando os padrões, com esses dados o modelo se prepara para a próxima etapa de teste. O conjunto de validação é a separação do conjunto treino e conjunto teste, ajustando os hiperparâmetros evitando o overfitting e otimizando o modelo. O conjunto de teste é uma amostra dos dados separada do conjunto de treinamento que avalia o desempenho do modelo, após a etapa de treinamento, fazendo previsões que são comparadas aos dados reais, verificando se o modelo aprendeu corretamente."
   ]
  },
  {
   "cell_type": "markdown",
   "metadata": {},
   "source": [
    "# 3.​ Explique como você lidaria com dados ausentes em um conjunto de dados de treinamento.\n",
    "### Após a identificação dos dados ausentes, dependendo do contexto pode ser usada a função fillna() para substituir o valor ausente por uma informação relevante ou pela moda, ou mediana, em caso de números a mediana pode ser usada para evitar distorções dos dados. "
   ]
  },
  {
   "cell_type": "markdown",
   "metadata": {},
   "source": [
    "# 4.​ O que é uma matriz de confusão e como ela é usada para avaliar o desempenho de um modelo preditivo?\n",
    "### É uma representação gráfica que avalia o desempenho do modelo, onde a diagonal esquerda são os que foram previstos corretamente e a outra diagonal são os valores: falso positivos e falso negativos valores que o modelo não previu corretamente, ele funciona com mapa de calor aonde as partes mais escuras são as corretas e as mais claras as incorretas."
   ]
  },
  {
   "cell_type": "markdown",
   "metadata": {},
   "source": [
    "# 5.​ Em quais áreas (tais como construção civil, agricultura, saúde, manufatura, entre outras) você acha mais interessante aplicar algoritmos de machine learning?\n",
    "### Pode ser usado na criação de jogos, mais precisamente jogos 2D de plataforma ou top-down para o reconhecimento dos sprites, assim nos guiando na parte da lógica de programação. "
   ]
  }
 ],
 "metadata": {
  "language_info": {
   "name": "python"
  }
 },
 "nbformat": 4,
 "nbformat_minor": 2
}
